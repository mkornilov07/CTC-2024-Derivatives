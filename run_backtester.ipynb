{
 "cells": [
  {
   "cell_type": "code",
   "execution_count": 1,
   "metadata": {},
   "outputs": [
    {
     "name": "stdout",
     "output_type": "stream",
     "text": [
      "2024-01-02 00:00:00 capital: 100000000 portfolio value: 0 total pnl: 100000000 open orders: 0\n",
      "2024-01-03 00:00:00 capital: 100000000 portfolio value: 0 total pnl: 100000000 open orders: 0\n",
      "2024-01-04 00:00:00 capital: 67536790.09570312 portfolio value: 32465908.804296874 total pnl: 100002698.9 open orders: 2\n",
      "2024-01-05 00:00:00 capital: 67536790.09570312 portfolio value: 32465908.804296874 total pnl: 100002698.9 open orders: 2\n",
      "2024-01-06 00:00:00 capital: 22924321.369140625 portfolio value: 77092327.03085938 total pnl: 100016648.4 open orders: 4\n",
      "2024-01-07 00:00:00 capital: 22924321.369140625 portfolio value: 77092327.03085938 total pnl: 100016648.4 open orders: 4\n",
      "2024-01-08 00:00:00 capital: 22924321.369140625 portfolio value: 77092327.03085938 total pnl: 100016648.4 open orders: 4\n",
      "2024-01-09 00:00:00 capital: 11967436.379296876 portfolio value: 88052525.62070313 total pnl: 100019962.0 open orders: 7\n",
      "2024-01-10 00:00:00 capital: 11962569.479296876 portfolio value: 88057392.02070314 total pnl: 100019961.50000001 open orders: 8\n",
      "2024-01-11 00:00:00 capital: 7658910.803515626 portfolio value: 92362497.19648439 total pnl: 100021408.00000001 open orders: 9\n",
      "2024-01-12 00:00:00 capital: 7627580.303515626 portfolio value: 92393827.19648439 total pnl: 100021407.50000001 open orders: 10\n",
      "2024-01-13 00:00:00 capital: 7574125.7035156265 portfolio value: 92447280.79648438 total pnl: 100021406.5 open orders: 12\n",
      "2024-01-14 00:00:00 capital: 7574125.7035156265 portfolio value: 92447280.79648438 total pnl: 100021406.5 open orders: 12\n",
      "2024-01-15 00:00:00 capital: 7574125.7035156265 portfolio value: 92447280.79648438 total pnl: 100021406.5 open orders: 12\n",
      "2024-01-16 00:00:00 capital: 7574125.7035156265 portfolio value: 92447280.79648438 total pnl: 100021406.5 open orders: 12\n",
      "2024-01-17 00:00:00 capital: 7574125.7035156265 portfolio value: 92447280.79648438 total pnl: 100021406.5 open orders: 12\n",
      "2024-01-18 00:00:00 capital: 7574125.7035156265 portfolio value: 92447280.79648438 total pnl: 100021406.5 open orders: 12\n",
      "2024-01-19 00:00:00 capital: 7569975.353515627 portfolio value: 92451429.64648438 total pnl: 100021405.0 open orders: 15\n",
      "2024-01-20 00:00:00 capital: 7569975.353515627 portfolio value: 92451429.64648438 total pnl: 100021405.0 open orders: 15\n",
      "2024-01-21 00:00:00 capital: 7569975.353515627 portfolio value: 92451429.64648438 total pnl: 100021405.0 open orders: 15\n",
      "2024-01-22 00:00:00 capital: 7569975.353515627 portfolio value: 92451429.64648438 total pnl: 100021405.0 open orders: 15\n",
      "2024-01-23 00:00:00 capital: 7569975.353515627 portfolio value: 92451429.64648438 total pnl: 100021405.0 open orders: 15\n",
      "2024-01-24 00:00:00 capital: 7549837.053515626 portfolio value: 92471566.94648439 total pnl: 100021404.00000001 open orders: 17\n",
      "2024-01-25 00:00:00 capital: 7549837.053515626 portfolio value: 92471566.94648439 total pnl: 100021404.00000001 open orders: 17\n",
      "2024-01-26 00:00:00 capital: 7549837.053515626 portfolio value: 92471566.94648439 total pnl: 100021404.00000001 open orders: 17\n",
      "2024-01-27 00:00:00 capital: 7521146.753515626 portfolio value: 92500256.74648438 total pnl: 100021403.50000001 open orders: 18\n",
      "2024-01-28 00:00:00 capital: 7521146.753515626 portfolio value: 92500256.74648438 total pnl: 100021403.50000001 open orders: 18\n",
      "2024-01-29 00:00:00 capital: 7521146.753515626 portfolio value: 92500256.74648438 total pnl: 100021403.50000001 open orders: 18\n",
      "2024-01-30 00:00:00 capital: 7521146.753515626 portfolio value: 92500256.74648438 total pnl: 100021403.50000001 open orders: 18\n",
      "2024-01-31 00:00:00 capital: 7517017.753515626 portfolio value: 92504385.24648438 total pnl: 100021403.00000001 open orders: 19\n",
      "2024-02-01 00:00:00 capital: 2187969.7609375017 portfolio value: 97834600.13906251 total pnl: 100022569.9 open orders: 20\n",
      "2024-02-02 00:00:00 capital: 2187969.7609375017 portfolio value: 97834600.13906251 total pnl: 100022569.9 open orders: 20\n",
      "2024-02-03 00:00:00 capital: 2187969.7609375017 portfolio value: 97834600.13906251 total pnl: 100022569.9 open orders: 20\n",
      "2024-02-04 00:00:00 capital: 2187969.7609375017 portfolio value: 97834600.13906251 total pnl: 100022569.9 open orders: 20\n",
      "2024-02-05 00:00:00 capital: 2187969.7609375017 portfolio value: 97834600.13906251 total pnl: 100022569.9 open orders: 20\n",
      "2024-02-06 00:00:00 capital: 2187399.1609375016 portfolio value: 97835170.2390625 total pnl: 100022569.4 open orders: 21\n",
      "2024-02-07 00:00:00 capital: 2179440.4609375014 portfolio value: 97843128.4390625 total pnl: 100022568.9 open orders: 22\n",
      "2024-02-08 00:00:00 capital: 2166664.9609375014 portfolio value: 97855903.4390625 total pnl: 100022568.4 open orders: 23\n",
      "2024-02-09 00:00:00 capital: 2128432.1609375016 portfolio value: 97894135.2390625 total pnl: 100022567.4 open orders: 25\n"
     ]
    },
    {
     "ename": "KeyboardInterrupt",
     "evalue": "",
     "output_type": "error",
     "traceback": [
      "\u001b[1;31m---------------------------------------------------------------------------\u001b[0m",
      "\u001b[1;31mKeyboardInterrupt\u001b[0m                         Traceback (most recent call last)",
      "Cell \u001b[1;32mIn[1], line 10\u001b[0m\n\u001b[0;32m      7\u001b[0m s \u001b[38;5;241m=\u001b[39m Strategy()\n\u001b[0;32m      8\u001b[0m b \u001b[38;5;241m=\u001b[39m Backtester(start, end, s)\n\u001b[1;32m---> 10\u001b[0m \u001b[43mb\u001b[49m\u001b[38;5;241;43m.\u001b[39;49m\u001b[43mcalculate_pnl\u001b[49m\u001b[43m(\u001b[49m\u001b[43m)\u001b[49m\n",
      "File \u001b[1;32mc:\\Users\\Mikhail\\Documents\\code\\trading_comp\\CTC-2024-Derivatives\\backtester.py:65\u001b[0m, in \u001b[0;36mBacktester.calculate_pnl\u001b[1;34m(self)\u001b[0m\n\u001b[0;32m     62\u001b[0m order_size: \u001b[38;5;28mfloat\u001b[39m \u001b[38;5;241m=\u001b[39m \u001b[38;5;28mfloat\u001b[39m(row[\u001b[38;5;124m\"\u001b[39m\u001b[38;5;124morder_size\u001b[39m\u001b[38;5;124m\"\u001b[39m])\n\u001b[0;32m     63\u001b[0m strike_price: \u001b[38;5;28mfloat\u001b[39m \u001b[38;5;241m=\u001b[39m option_metadata[\u001b[38;5;241m2\u001b[39m]\n\u001b[1;32m---> 65\u001b[0m matching_row \u001b[38;5;241m=\u001b[39m \u001b[38;5;28mself\u001b[39m\u001b[38;5;241m.\u001b[39moptions[\u001b[43m(\u001b[49m\u001b[38;5;28;43mself\u001b[39;49m\u001b[38;5;241;43m.\u001b[39;49m\u001b[43moptions\u001b[49m\u001b[43m[\u001b[49m\u001b[38;5;124;43m\"\u001b[39;49m\u001b[38;5;124;43msymbol\u001b[39;49m\u001b[38;5;124;43m\"\u001b[39;49m\u001b[43m]\u001b[49m\u001b[43m \u001b[49m\u001b[38;5;241;43m==\u001b[39;49m\u001b[43m \u001b[49m\u001b[43mrow\u001b[49m\u001b[43m[\u001b[49m\u001b[38;5;124;43m\"\u001b[39;49m\u001b[38;5;124;43moption_symbol\u001b[39;49m\u001b[38;5;124;43m\"\u001b[39;49m\u001b[43m]\u001b[49m\u001b[43m)\u001b[49m\u001b[43m \u001b[49m\u001b[38;5;241;43m&\u001b[39;49m\u001b[43m \u001b[49m\n\u001b[0;32m     66\u001b[0m \u001b[43m                            \u001b[49m\u001b[43m(\u001b[49m\u001b[38;5;28;43mself\u001b[39;49m\u001b[38;5;241;43m.\u001b[39;49m\u001b[43moptions\u001b[49m\u001b[43m[\u001b[49m\u001b[38;5;124;43m\"\u001b[39;49m\u001b[38;5;124;43mts_recv\u001b[39;49m\u001b[38;5;124;43m\"\u001b[39;49m\u001b[43m]\u001b[49m\u001b[43m \u001b[49m\u001b[38;5;241;43m==\u001b[39;49m\u001b[43m \u001b[49m\u001b[43mrow\u001b[49m\u001b[43m[\u001b[49m\u001b[38;5;124;43m\"\u001b[39;49m\u001b[38;5;124;43mdatetime\u001b[39;49m\u001b[38;5;124;43m\"\u001b[39;49m\u001b[43m]\u001b[49m\u001b[43m)\u001b[49m]\n\u001b[0;32m     68\u001b[0m \u001b[38;5;28;01mif\u001b[39;00m \u001b[38;5;129;01mnot\u001b[39;00m matching_row\u001b[38;5;241m.\u001b[39mempty:\n\u001b[0;32m     69\u001b[0m   matching_row \u001b[38;5;241m=\u001b[39m matching_row\u001b[38;5;241m.\u001b[39miloc[\u001b[38;5;241m0\u001b[39m]\n",
      "File \u001b[1;32m~\\AppData\\Local\\Packages\\PythonSoftwareFoundation.Python.3.12_qbz5n2kfra8p0\\LocalCache\\local-packages\\Python312\\site-packages\\pandas\\core\\ops\\common.py:76\u001b[0m, in \u001b[0;36m_unpack_zerodim_and_defer.<locals>.new_method\u001b[1;34m(self, other)\u001b[0m\n\u001b[0;32m     72\u001b[0m             \u001b[38;5;28;01mreturn\u001b[39;00m \u001b[38;5;28mNotImplemented\u001b[39m\n\u001b[0;32m     74\u001b[0m other \u001b[38;5;241m=\u001b[39m item_from_zerodim(other)\n\u001b[1;32m---> 76\u001b[0m \u001b[38;5;28;01mreturn\u001b[39;00m \u001b[43mmethod\u001b[49m\u001b[43m(\u001b[49m\u001b[38;5;28;43mself\u001b[39;49m\u001b[43m,\u001b[49m\u001b[43m \u001b[49m\u001b[43mother\u001b[49m\u001b[43m)\u001b[49m\n",
      "File \u001b[1;32m~\\AppData\\Local\\Packages\\PythonSoftwareFoundation.Python.3.12_qbz5n2kfra8p0\\LocalCache\\local-packages\\Python312\\site-packages\\pandas\\core\\arraylike.py:70\u001b[0m, in \u001b[0;36mOpsMixin.__and__\u001b[1;34m(self, other)\u001b[0m\n\u001b[0;32m     68\u001b[0m \u001b[38;5;129m@unpack_zerodim_and_defer\u001b[39m(\u001b[38;5;124m\"\u001b[39m\u001b[38;5;124m__and__\u001b[39m\u001b[38;5;124m\"\u001b[39m)\n\u001b[0;32m     69\u001b[0m \u001b[38;5;28;01mdef\u001b[39;00m \u001b[38;5;21m__and__\u001b[39m(\u001b[38;5;28mself\u001b[39m, other):\n\u001b[1;32m---> 70\u001b[0m     \u001b[38;5;28;01mreturn\u001b[39;00m \u001b[38;5;28;43mself\u001b[39;49m\u001b[38;5;241;43m.\u001b[39;49m\u001b[43m_logical_method\u001b[49m\u001b[43m(\u001b[49m\u001b[43mother\u001b[49m\u001b[43m,\u001b[49m\u001b[43m \u001b[49m\u001b[43moperator\u001b[49m\u001b[38;5;241;43m.\u001b[39;49m\u001b[43mand_\u001b[49m\u001b[43m)\u001b[49m\n",
      "File \u001b[1;32m~\\AppData\\Local\\Packages\\PythonSoftwareFoundation.Python.3.12_qbz5n2kfra8p0\\LocalCache\\local-packages\\Python312\\site-packages\\pandas\\core\\series.py:6130\u001b[0m, in \u001b[0;36mSeries._logical_method\u001b[1;34m(self, other, op)\u001b[0m\n\u001b[0;32m   6127\u001b[0m lvalues \u001b[38;5;241m=\u001b[39m \u001b[38;5;28mself\u001b[39m\u001b[38;5;241m.\u001b[39m_values\n\u001b[0;32m   6128\u001b[0m rvalues \u001b[38;5;241m=\u001b[39m extract_array(other, extract_numpy\u001b[38;5;241m=\u001b[39m\u001b[38;5;28;01mTrue\u001b[39;00m, extract_range\u001b[38;5;241m=\u001b[39m\u001b[38;5;28;01mTrue\u001b[39;00m)\n\u001b[1;32m-> 6130\u001b[0m res_values \u001b[38;5;241m=\u001b[39m \u001b[43mops\u001b[49m\u001b[38;5;241;43m.\u001b[39;49m\u001b[43mlogical_op\u001b[49m\u001b[43m(\u001b[49m\u001b[43mlvalues\u001b[49m\u001b[43m,\u001b[49m\u001b[43m \u001b[49m\u001b[43mrvalues\u001b[49m\u001b[43m,\u001b[49m\u001b[43m \u001b[49m\u001b[43mop\u001b[49m\u001b[43m)\u001b[49m\n\u001b[0;32m   6131\u001b[0m \u001b[38;5;28;01mreturn\u001b[39;00m \u001b[38;5;28mself\u001b[39m\u001b[38;5;241m.\u001b[39m_construct_result(res_values, name\u001b[38;5;241m=\u001b[39mres_name)\n",
      "File \u001b[1;32m~\\AppData\\Local\\Packages\\PythonSoftwareFoundation.Python.3.12_qbz5n2kfra8p0\\LocalCache\\local-packages\\Python312\\site-packages\\pandas\\core\\ops\\array_ops.py:448\u001b[0m, in \u001b[0;36mlogical_op\u001b[1;34m(left, right, op)\u001b[0m\n\u001b[0;32m    446\u001b[0m     is_other_int_dtype \u001b[38;5;241m=\u001b[39m rvalues\u001b[38;5;241m.\u001b[39mdtype\u001b[38;5;241m.\u001b[39mkind \u001b[38;5;129;01min\u001b[39;00m \u001b[38;5;124m\"\u001b[39m\u001b[38;5;124miu\u001b[39m\u001b[38;5;124m\"\u001b[39m\n\u001b[0;32m    447\u001b[0m     \u001b[38;5;28;01mif\u001b[39;00m \u001b[38;5;129;01mnot\u001b[39;00m is_other_int_dtype:\n\u001b[1;32m--> 448\u001b[0m         rvalues \u001b[38;5;241m=\u001b[39m \u001b[43mfill_bool\u001b[49m\u001b[43m(\u001b[49m\u001b[43mrvalues\u001b[49m\u001b[43m,\u001b[49m\u001b[43m \u001b[49m\u001b[43mlvalues\u001b[49m\u001b[43m)\u001b[49m\n\u001b[0;32m    450\u001b[0m \u001b[38;5;28;01melse\u001b[39;00m:\n\u001b[0;32m    451\u001b[0m     \u001b[38;5;66;03m# i.e. scalar\u001b[39;00m\n\u001b[0;32m    452\u001b[0m     is_other_int_dtype \u001b[38;5;241m=\u001b[39m lib\u001b[38;5;241m.\u001b[39mis_integer(rvalues)\n",
      "File \u001b[1;32m~\\AppData\\Local\\Packages\\PythonSoftwareFoundation.Python.3.12_qbz5n2kfra8p0\\LocalCache\\local-packages\\Python312\\site-packages\\pandas\\core\\ops\\array_ops.py:420\u001b[0m, in \u001b[0;36mlogical_op.<locals>.fill_bool\u001b[1;34m(x, left)\u001b[0m\n\u001b[0;32m    417\u001b[0m         x[mask] \u001b[38;5;241m=\u001b[39m \u001b[38;5;28;01mFalse\u001b[39;00m\n\u001b[0;32m    419\u001b[0m \u001b[38;5;28;01mif\u001b[39;00m left \u001b[38;5;129;01mis\u001b[39;00m \u001b[38;5;28;01mNone\u001b[39;00m \u001b[38;5;129;01mor\u001b[39;00m left\u001b[38;5;241m.\u001b[39mdtype\u001b[38;5;241m.\u001b[39mkind \u001b[38;5;241m==\u001b[39m \u001b[38;5;124m\"\u001b[39m\u001b[38;5;124mb\u001b[39m\u001b[38;5;124m\"\u001b[39m:\n\u001b[1;32m--> 420\u001b[0m     x \u001b[38;5;241m=\u001b[39m \u001b[43mx\u001b[49m\u001b[38;5;241;43m.\u001b[39;49m\u001b[43mastype\u001b[49m\u001b[43m(\u001b[49m\u001b[38;5;28;43mbool\u001b[39;49m\u001b[43m)\u001b[49m\n\u001b[0;32m    421\u001b[0m \u001b[38;5;28;01mreturn\u001b[39;00m x\n",
      "\u001b[1;31mKeyboardInterrupt\u001b[0m: "
     ]
    }
   ],
   "source": [
    "from datetime import datetime\n",
    "from backtester import Backtester\n",
    "from example_strategy import Strategy\n",
    "\n",
    "start = datetime(2024, 1, 1)\n",
    "end = datetime(2024, 3, 30)\n",
    "s = Strategy()\n",
    "print(s.getOptions())\n",
    "#b = Backtester(start, end, s)\n",
    "\n",
    "#b.calculate_pnl()"
   ]
  },
  {
   "cell_type": "code",
   "execution_count": null,
   "metadata": {},
   "outputs": [],
   "source": [
    "b.plot_pnl()"
   ]
  },
  {
   "cell_type": "code",
   "execution_count": null,
   "metadata": {},
   "outputs": [],
   "source": [
    "b.compute_overall_score()"
   ]
  },
  {
   "cell_type": "code",
   "execution_count": null,
   "metadata": {},
   "outputs": [],
   "source": []
  }
 ],
 "metadata": {
  "kernelspec": {
   "display_name": "Python 3",
   "language": "python",
   "name": "python3"
  },
  "language_info": {
   "codemirror_mode": {
    "name": "ipython",
    "version": 3
   },
   "file_extension": ".py",
   "mimetype": "text/x-python",
   "name": "python",
   "nbconvert_exporter": "python",
   "pygments_lexer": "ipython3",
   "version": "3.12.7"
  }
 },
 "nbformat": 4,
 "nbformat_minor": 2
}
