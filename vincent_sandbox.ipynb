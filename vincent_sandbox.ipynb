{
 "cells": [
  {
   "cell_type": "code",
   "execution_count": 4,
   "metadata": {},
   "outputs": [],
   "source": [
    "from vincent_strategy import *"
   ]
  },
  {
   "cell_type": "code",
   "execution_count": 5,
   "metadata": {},
   "outputs": [],
   "source": [
    "s = Strategy()"
   ]
  },
  {
   "cell_type": "code",
   "execution_count": 6,
   "metadata": {},
   "outputs": [
    {
     "data": {
      "text/plain": [
       "{'expiration': datetime.datetime(2024, 4, 19, 0, 0),\n",
       " 'option_type': 'P',\n",
       " 'strike_price': 5210.0}"
      ]
     },
     "execution_count": 6,
     "metadata": {},
     "output_type": "execute_result"
    }
   ],
   "source": [
    "s.parse_symbol(\"2024-03-28T20:12:36.243390048Z,1174419961,30.3,30.9,150,75,SPX   240419P05210000\")"
   ]
  },
  {
   "cell_type": "code",
   "execution_count": 12,
   "metadata": {},
   "outputs": [],
   "source": [
    "it = s.options.itertuples()"
   ]
  },
  {
   "cell_type": "code",
   "execution_count": 17,
   "metadata": {},
   "outputs": [],
   "source": [
    "put = s.options.iloc[68181]"
   ]
  },
  {
   "cell_type": "code",
   "execution_count": 36,
   "metadata": {},
   "outputs": [
    {
     "name": "stdout",
     "output_type": "stream",
     "text": [
      "Pandas(Index=47, ts_recv='2024-01-02T14:30:03.361562967Z', instrument_id=587220296, bid_px_00=24.3, ask_px_00=25.4, bid_sz_00=75, ask_sz_00=75, symbol='SPX   240119C04800000', expiration=Timestamp('2024-01-19 00:00:00'), option_type='C', strike_price=4800.0, day='2024-01-02')\n",
      "Pandas(Index=170, ts_recv='2024-01-02T14:30:37.222163352Z', instrument_id=587220296, bid_px_00=26.0, ask_px_00=26.8, bid_sz_00=625, ask_sz_00=494, symbol='SPX   240119C04800000', expiration=Timestamp('2024-01-19 00:00:00'), option_type='C', strike_price=4800.0, day='2024-01-02')\n",
      "Pandas(Index=181, ts_recv='2024-01-02T14:30:43.674890728Z', instrument_id=587246018, bid_px_00=64.0, ask_px_00=64.9, bid_sz_00=269, ask_sz_00=255, symbol='SPX   240216C04800000', expiration=Timestamp('2024-02-16 00:00:00'), option_type='C', strike_price=4800.0, day='2024-01-02')\n",
      "Pandas(Index=216, ts_recv='2024-01-02T14:31:17.772205348Z', instrument_id=587220296, bid_px_00=25.5, ask_px_00=26.0, bid_sz_00=295, ask_sz_00=180, symbol='SPX   240119C04800000', expiration=Timestamp('2024-01-19 00:00:00'), option_type='C', strike_price=4800.0, day='2024-01-02')\n",
      "Pandas(Index=232, ts_recv='2024-01-02T14:31:28.582629320Z', instrument_id=587220296, bid_px_00=25.5, ask_px_00=26.1, bid_sz_00=85, ask_sz_00=400, symbol='SPX   240119C04800000', expiration=Timestamp('2024-01-19 00:00:00'), option_type='C', strike_price=4800.0, day='2024-01-02')\n",
      "Pandas(Index=256, ts_recv='2024-01-02T14:31:44.262698455Z', instrument_id=587237281, bid_px_00=67.9, ask_px_00=69.2, bid_sz_00=54, ask_sz_00=54, symbol='SPX   240119P04800000', expiration=Timestamp('2024-01-19 00:00:00'), option_type='P', strike_price=4800.0, day='2024-01-02')\n",
      "Pandas(Index=276, ts_recv='2024-01-02T14:31:53.201702995Z', instrument_id=587220296, bid_px_00=26.1, ask_px_00=26.9, bid_sz_00=150, ask_sz_00=75, symbol='SPX   240119C04800000', expiration=Timestamp('2024-01-19 00:00:00'), option_type='C', strike_price=4800.0, day='2024-01-02')\n",
      "Pandas(Index=375, ts_recv='2024-01-02T14:33:34.547485994Z', instrument_id=587220296, bid_px_00=25.8, ask_px_00=26.4, bid_sz_00=537, ask_sz_00=805, symbol='SPX   240119C04800000', expiration=Timestamp('2024-01-19 00:00:00'), option_type='C', strike_price=4800.0, day='2024-01-02')\n",
      "Pandas(Index=381, ts_recv='2024-01-02T14:33:38.741648073Z', instrument_id=587246018, bid_px_00=64.3, ask_px_00=65.0, bid_sz_00=343, ask_sz_00=255, symbol='SPX   240216C04800000', expiration=Timestamp('2024-02-16 00:00:00'), option_type='C', strike_price=4800.0, day='2024-01-02')\n",
      "Pandas(Index=384, ts_recv='2024-01-02T14:33:38.741938441Z', instrument_id=587246018, bid_px_00=64.3, ask_px_00=65.0, bid_sz_00=343, ask_sz_00=255, symbol='SPX   240216C04800000', expiration=Timestamp('2024-02-16 00:00:00'), option_type='C', strike_price=4800.0, day='2024-01-02')\n",
      "Pandas(Index=390, ts_recv='2024-01-02T14:33:38.741968619Z', instrument_id=587246018, bid_px_00=64.3, ask_px_00=65.0, bid_sz_00=343, ask_sz_00=255, symbol='SPX   240216C04800000', expiration=Timestamp('2024-02-16 00:00:00'), option_type='C', strike_price=4800.0, day='2024-01-02')\n",
      "Pandas(Index=392, ts_recv='2024-01-02T14:33:38.741998736Z', instrument_id=587246018, bid_px_00=64.3, ask_px_00=65.0, bid_sz_00=343, ask_sz_00=255, symbol='SPX   240216C04800000', expiration=Timestamp('2024-02-16 00:00:00'), option_type='C', strike_price=4800.0, day='2024-01-02')\n",
      "Pandas(Index=418, ts_recv='2024-01-02T14:34:09.872679166Z', instrument_id=587220296, bid_px_00=26.0, ask_px_00=26.5, bid_sz_00=536, ask_sz_00=533, symbol='SPX   240119C04800000', expiration=Timestamp('2024-01-19 00:00:00'), option_type='C', strike_price=4800.0, day='2024-01-02')\n",
      "Pandas(Index=434, ts_recv='2024-01-02T14:34:33.626195893Z', instrument_id=587220296, bid_px_00=26.4, ask_px_00=26.9, bid_sz_00=550, ask_sz_00=355, symbol='SPX   240119C04800000', expiration=Timestamp('2024-01-19 00:00:00'), option_type='C', strike_price=4800.0, day='2024-01-02')\n",
      "Pandas(Index=437, ts_recv='2024-01-02T14:34:33.626206501Z', instrument_id=587220296, bid_px_00=26.4, ask_px_00=26.9, bid_sz_00=550, ask_sz_00=355, symbol='SPX   240119C04800000', expiration=Timestamp('2024-01-19 00:00:00'), option_type='C', strike_price=4800.0, day='2024-01-02')\n",
      "Pandas(Index=438, ts_recv='2024-01-02T14:34:33.626217275Z', instrument_id=587220296, bid_px_00=26.4, ask_px_00=26.9, bid_sz_00=550, ask_sz_00=355, symbol='SPX   240119C04800000', expiration=Timestamp('2024-01-19 00:00:00'), option_type='C', strike_price=4800.0, day='2024-01-02')\n",
      "Pandas(Index=476, ts_recv='2024-01-02T14:35:08.867530383Z', instrument_id=587237281, bid_px_00=68.0, ask_px_00=69.1, bid_sz_00=435, ask_sz_00=315, symbol='SPX   240119P04800000', expiration=Timestamp('2024-01-19 00:00:00'), option_type='P', strike_price=4800.0, day='2024-01-02')\n",
      "Pandas(Index=477, ts_recv='2024-01-02T14:35:08.867530383Z', instrument_id=587211782, bid_px_00=96.6, ask_px_00=97.4, bid_sz_00=303, ask_sz_00=467, symbol='SPX   240315C04800000', expiration=Timestamp('2024-03-15 00:00:00'), option_type='C', strike_price=4800.0, day='2024-01-02')\n",
      "Pandas(Index=478, ts_recv='2024-01-02T14:35:08.867534460Z', instrument_id=587220296, bid_px_00=26.0, ask_px_00=26.5, bid_sz_00=485, ask_sz_00=525, symbol='SPX   240119C04800000', expiration=Timestamp('2024-01-19 00:00:00'), option_type='C', strike_price=4800.0, day='2024-01-02')\n",
      "Pandas(Index=479, ts_recv='2024-01-02T14:35:08.867534460Z', instrument_id=587245913, bid_px_00=108.7, ask_px_00=109.4, bid_sz_00=350, ask_sz_00=257, symbol='SPX   240315P04800000', expiration=Timestamp('2024-03-15 00:00:00'), option_type='P', strike_price=4800.0, day='2024-01-02')\n",
      "Pandas(Index=484, ts_recv='2024-01-02T14:35:10.917545980Z', instrument_id=587220296, bid_px_00=25.7, ask_px_00=26.2, bid_sz_00=604, ask_sz_00=364, symbol='SPX   240119C04800000', expiration=Timestamp('2024-01-19 00:00:00'), option_type='C', strike_price=4800.0, day='2024-01-02')\n",
      "Pandas(Index=541, ts_recv='2024-01-02T14:35:52.614563075Z', instrument_id=587220296, bid_px_00=26.1, ask_px_00=26.7, bid_sz_00=252, ask_sz_00=150, symbol='SPX   240119C04800000', expiration=Timestamp('2024-01-19 00:00:00'), option_type='C', strike_price=4800.0, day='2024-01-02')\n",
      "Pandas(Index=552, ts_recv='2024-01-02T14:36:04.654533206Z', instrument_id=587220296, bid_px_00=26.0, ask_px_00=26.5, bid_sz_00=150, ask_sz_00=75, symbol='SPX   240119C04800000', expiration=Timestamp('2024-01-19 00:00:00'), option_type='C', strike_price=4800.0, day='2024-01-02')\n",
      "Pandas(Index=600, ts_recv='2024-01-02T14:37:19.283849924Z', instrument_id=587220296, bid_px_00=25.8, ask_px_00=26.5, bid_sz_00=75, ask_sz_00=75, symbol='SPX   240119C04800000', expiration=Timestamp('2024-01-19 00:00:00'), option_type='C', strike_price=4800.0, day='2024-01-02')\n",
      "Pandas(Index=651, ts_recv='2024-01-02T14:37:58.290059223Z', instrument_id=587245913, bid_px_00=109.6, ask_px_00=110.5, bid_sz_00=135, ask_sz_00=15, symbol='SPX   240315P04800000', expiration=Timestamp('2024-03-15 00:00:00'), option_type='P', strike_price=4800.0, day='2024-01-02')\n",
      "Pandas(Index=697, ts_recv='2024-01-02T14:38:20.773633975Z', instrument_id=587220296, bid_px_00=25.0, ask_px_00=25.6, bid_sz_00=614, ask_sz_00=322, symbol='SPX   240119C04800000', expiration=Timestamp('2024-01-19 00:00:00'), option_type='C', strike_price=4800.0, day='2024-01-02')\n",
      "Pandas(Index=710, ts_recv='2024-01-02T14:38:29.119798490Z', instrument_id=587220296, bid_px_00=25.1, ask_px_00=25.3, bid_sz_00=10, ask_sz_00=75, symbol='SPX   240119C04800000', expiration=Timestamp('2024-01-19 00:00:00'), option_type='C', strike_price=4800.0, day='2024-01-02')\n",
      "Pandas(Index=731, ts_recv='2024-01-02T14:38:44.185210527Z', instrument_id=587220296, bid_px_00=24.4, ask_px_00=24.9, bid_sz_00=465, ask_sz_00=530, symbol='SPX   240119C04800000', expiration=Timestamp('2024-01-19 00:00:00'), option_type='C', strike_price=4800.0, day='2024-01-02')\n",
      "Pandas(Index=764, ts_recv='2024-01-02T14:38:53.067345005Z', instrument_id=587228621, bid_px_00=192.9, ask_px_00=194.4, bid_sz_00=25, ask_sz_00=531, symbol='SPX   240621C04800000', expiration=Timestamp('2024-06-21 00:00:00'), option_type='C', strike_price=4800.0, day='2024-01-02')\n",
      "Pandas(Index=786, ts_recv='2024-01-02T14:39:19.704696381Z', instrument_id=587220296, bid_px_00=24.4, ask_px_00=24.9, bid_sz_00=338, ask_sz_00=784, symbol='SPX   240119C04800000', expiration=Timestamp('2024-01-19 00:00:00'), option_type='C', strike_price=4800.0, day='2024-01-02')\n",
      "Pandas(Index=819, ts_recv='2024-01-02T14:39:35.073589185Z', instrument_id=587220296, bid_px_00=24.1, ask_px_00=24.7, bid_sz_00=75, ask_sz_00=75, symbol='SPX   240119C04800000', expiration=Timestamp('2024-01-19 00:00:00'), option_type='C', strike_price=4800.0, day='2024-01-02')\n",
      "Pandas(Index=831, ts_recv='2024-01-02T14:39:38.522450154Z', instrument_id=587211782, bid_px_00=93.8, ask_px_00=94.6, bid_sz_00=233, ask_sz_00=412, symbol='SPX   240315C04800000', expiration=Timestamp('2024-03-15 00:00:00'), option_type='C', strike_price=4800.0, day='2024-01-02')\n",
      "Pandas(Index=832, ts_recv='2024-01-02T14:39:38.522450154Z', instrument_id=587237281, bid_px_00=73.2, ask_px_00=74.3, bid_sz_00=399, ask_sz_00=281, symbol='SPX   240119P04800000', expiration=Timestamp('2024-01-19 00:00:00'), option_type='P', strike_price=4800.0, day='2024-01-02')\n",
      "Pandas(Index=833, ts_recv='2024-01-02T14:39:38.522460121Z', instrument_id=587220296, bid_px_00=24.2, ask_px_00=24.8, bid_sz_00=611, ask_sz_00=813, symbol='SPX   240119C04800000', expiration=Timestamp('2024-01-19 00:00:00'), option_type='C', strike_price=4800.0, day='2024-01-02')\n",
      "Pandas(Index=834, ts_recv='2024-01-02T14:39:38.522460121Z', instrument_id=587245913, bid_px_00=112.9, ask_px_00=113.6, bid_sz_00=249, ask_sz_00=144, symbol='SPX   240315P04800000', expiration=Timestamp('2024-03-15 00:00:00'), option_type='P', strike_price=4800.0, day='2024-01-02')\n",
      "Pandas(Index=925, ts_recv='2024-01-02T14:40:27.550571830Z', instrument_id=587220296, bid_px_00=24.1, ask_px_00=24.6, bid_sz_00=396, ask_sz_00=506, symbol='SPX   240119C04800000', expiration=Timestamp('2024-01-19 00:00:00'), option_type='C', strike_price=4800.0, day='2024-01-02')\n",
      "Pandas(Index=926, ts_recv='2024-01-02T14:40:27.550571830Z', instrument_id=587237281, bid_px_00=73.8, ask_px_00=74.8, bid_sz_00=294, ask_sz_00=281, symbol='SPX   240119P04800000', expiration=Timestamp('2024-01-19 00:00:00'), option_type='P', strike_price=4800.0, day='2024-01-02')\n",
      "Pandas(Index=994, ts_recv='2024-01-02T14:41:28.997549187Z', instrument_id=587220296, bid_px_00=23.8, ask_px_00=24.3, bid_sz_00=166, ask_sz_00=225, symbol='SPX   240119C04800000', expiration=Timestamp('2024-01-19 00:00:00'), option_type='C', strike_price=4800.0, day='2024-01-02')\n",
      "Pandas(Index=1026, ts_recv='2024-01-02T14:41:37.632126931Z', instrument_id=587246018, bid_px_00=61.6, ask_px_00=62.2, bid_sz_00=301, ask_sz_00=611, symbol='SPX   240216C04800000', expiration=Timestamp('2024-02-16 00:00:00'), option_type='C', strike_price=4800.0, day='2024-01-02')\n",
      "Pandas(Index=1094, ts_recv='2024-01-02T14:42:24.374449298Z', instrument_id=587220296, bid_px_00=23.9, ask_px_00=24.4, bid_sz_00=628, ask_sz_00=550, symbol='SPX   240119C04800000', expiration=Timestamp('2024-01-19 00:00:00'), option_type='C', strike_price=4800.0, day='2024-01-02')\n",
      "Pandas(Index=1097, ts_recv='2024-01-02T14:42:24.374594539Z', instrument_id=587220296, bid_px_00=23.9, ask_px_00=24.4, bid_sz_00=628, ask_sz_00=550, symbol='SPX   240119C04800000', expiration=Timestamp('2024-01-19 00:00:00'), option_type='C', strike_price=4800.0, day='2024-01-02')\n"
     ]
    }
   ],
   "source": [
    "n = 0\n",
    "for opt in s.options.itertuples():\n",
    "    if opt.strike_price == 4800.0:\n",
    "        print(opt)\n",
    "        n += 1\n",
    "    if n > 40:\n",
    "        break"
   ]
  },
  {
   "cell_type": "code",
   "execution_count": 42,
   "metadata": {},
   "outputs": [
    {
     "data": {
      "text/plain": [
       "datetime.datetime(2024, 3, 14, 17, 56, 45, 981492)"
      ]
     },
     "execution_count": 42,
     "metadata": {},
     "output_type": "execute_result"
    }
   ],
   "source": [
    "from datetime import timedelta\n",
    "datetime.strptime(\"2024-03-14T17:56:35.981492593Z\"[:-4], '%Y-%m-%dT%H:%M:%S.%f') + timedelta(seconds=10)"
   ]
  },
  {
   "cell_type": "code",
   "execution_count": 46,
   "metadata": {},
   "outputs": [
    {
     "data": {
      "text/plain": [
       "True"
      ]
     },
     "execution_count": 46,
     "metadata": {},
     "output_type": "execute_result"
    }
   ],
   "source": [
    "datetime.strptime(\"2024-03-30\", \"%Y-%m-%d\") < \\\n",
    "datetime.strptime(\"2024-03-31T17:56:35.981492593Z\"[:-4], '%Y-%m-%dT%H:%M:%S.%f')"
   ]
  },
  {
   "cell_type": "code",
   "execution_count": null,
   "metadata": {},
   "outputs": [],
   "source": []
  }
 ],
 "metadata": {
  "kernelspec": {
   "display_name": "Python 3",
   "language": "python",
   "name": "python3"
  },
  "language_info": {
   "codemirror_mode": {
    "name": "ipython",
    "version": 3
   },
   "file_extension": ".py",
   "mimetype": "text/x-python",
   "name": "python",
   "nbconvert_exporter": "python",
   "pygments_lexer": "ipython3",
   "version": "3.12.4"
  }
 },
 "nbformat": 4,
 "nbformat_minor": 2
}
